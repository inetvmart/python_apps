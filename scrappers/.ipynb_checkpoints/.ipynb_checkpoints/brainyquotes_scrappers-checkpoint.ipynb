{
 "cells": [
  {
   "cell_type": "code",
   "execution_count": 38,
   "metadata": {
    "collapsed": true
   },
   "outputs": [],
   "source": [
    "# BrainyQuote Web Scraper (By Keyword)\n",
    "# SPECIAL POMMUNISM EDITION\n",
    "# Alaina Kafkes\n",
    "\n",
    "import requests\n",
    "from bs4 import BeautifulSoup\n",
    "\n",
    "example_key = \"money\"\n"
   ]
  },
  {
   "cell_type": "code",
   "execution_count": 47,
   "metadata": {
    "collapsed": true
   },
   "outputs": [],
   "source": [
    "def getQuotes(keyword=example_key, numpages=7):\n",
    "    \"\"\"\n",
    "    Given a keyword and the number of HTML pages of quotes to parse, uses Requests & BeautifulSoup to obtain (quote, author) tuples from BrainyQuote.\n",
    "    Returns list of (quote, author) tuples and the length of this list.\n",
    "    \"\"\"\n",
    "    # Initialize lists\n",
    "    quoteArray = []\n",
    "    authorArray = []\n",
    "    pageNameArray = [keyword]\n",
    "    for i in range(2,numpages+1):\n",
    "        pageNameArray.append(keyword + \"_\" + str(i))\n",
    "\n",
    "    # For every page pertaining to a topic\n",
    "    for page in pageNameArray:\n",
    "        # Obtain BrainyQuote page html\n",
    "        base_url = \"http://www.brainyquote.com/quotes/keywords/\"\n",
    "        url = base_url + keyword + \".html\"\n",
    "        response_data = requests.get(url).text[:]\n",
    "        soup = BeautifulSoup(response_data, 'html.parser')\n",
    "\n",
    "        # Populate quoteArray\n",
    "        for item in soup.find_all(\"span\", class_=\"bqQuoteLink\"):\n",
    "            quoteArray.append(item.get_text().rstrip())\n",
    "\n",
    "        # Populate authorArray\n",
    "        for item in soup.find_all(\"div\", class_=\"bq-aut\"):\n",
    "            authorArray.append(item.get_text())\n",
    "\n",
    "    # Create list of tuples of the form (quote, author)\n",
    "#     ans = zip(quoteArray, authorArray)\n",
    "    return quoteArray\n",
    "\n",
    "def getQuotesByAuthor(author=example_author, numpages=4):\n",
    "    \"\"\"\n",
    "    Given the author name and the number of HTML pages of quotes to parse, uses Requests & BeautifulSoup to obtain (quote, author) tuples from BrainyQuote.\n",
    "    Returns list of (quote, author) tuples and the length of this list.\n",
    "    \"\"\"\n",
    "    # Initialize lists\n",
    "    quoteArray = []\n",
    "    authorArray = []\n",
    "    pageNameArray = [author]\n",
    "    for i in range(2,numpages+1):\n",
    "        pageNameArray.append(author + \"_\" + str(i))\n",
    "\n",
    "    # For every page pertaining to a topic\n",
    "    for page in pageNameArray:\n",
    "        # Obtain BrainyQuote page html\n",
    "        base_url = \"http://www.brainyquote.com/quotes/authors/\"\n",
    "        url = base_url + author[0] + \"/\" + author + \".html\"\n",
    "        response_data = requests.get(url).text[:]\n",
    "        soup = BeautifulSoup(response_data, 'html.parser')\n",
    "\n",
    "        # Populate quoteArray\n",
    "        for item in soup.find_all(\"span\", class_=\"bqQuoteLink\"):\n",
    "            quoteArray.append(item.get_text().rstrip())\n",
    "\n",
    "        # Populate authorArray\n",
    "        for item in soup.find_all(\"div\", class_=\"bq-aut\"):\n",
    "            authorArray.append(item.get_text())\n",
    "\n",
    "    # Create list of tuples of the form (quote, author)\n",
    "    ans = zip(quoteArray, authorArray)\n",
    "    return ans, len(ans)"
   ]
  },
  {
   "cell_type": "code",
   "execution_count": 48,
   "metadata": {
    "collapsed": false
   },
   "outputs": [],
   "source": [
    "searches = getQuotes()"
   ]
  },
  {
   "cell_type": "code",
   "execution_count": 49,
   "metadata": {
    "collapsed": false
   },
   "outputs": [
    {
     "data": {
      "text/plain": [
       "[]"
      ]
     },
     "execution_count": 49,
     "metadata": {},
     "output_type": "execute_result"
    }
   ],
   "source": [
    "searches"
   ]
  },
  {
   "cell_type": "code",
   "execution_count": null,
   "metadata": {
    "collapsed": true
   },
   "outputs": [],
   "source": []
  }
 ],
 "metadata": {
  "kernelspec": {
   "display_name": "Python 3.9",
   "language": "python",
   "name": "python3.9"
  },
  "language_info": {
   "codemirror_mode": {
    "name": "ipython",
    "version": 3
   },
   "file_extension": ".py",
   "mimetype": "text/x-python",
   "name": "python",
   "nbconvert_exporter": "python",
   "pygments_lexer": "ipython3",
   "version": "3.9.5"
  }
 },
 "nbformat": 4,
 "nbformat_minor": 0
}
