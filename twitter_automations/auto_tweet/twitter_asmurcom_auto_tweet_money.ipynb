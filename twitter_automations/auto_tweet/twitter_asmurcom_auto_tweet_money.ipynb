{
 "cells": [
  {
   "cell_type": "code",
   "execution_count": 1,
   "metadata": {
    "collapsed": false
   },
   "outputs": [],
   "source": [
    "import tweepy\n",
    "import pandas as pd\n",
    "import random\n",
    "from googletrans import Translator\n",
    "from random import randint\n",
    "from time import sleep\n",
    "\n",
    "\n",
    "# In[2]:\n",
    "\n",
    "\n",
    "def authenticate_twitter(twitter_api_key\n",
    "                        ,twitter_api_secret\n",
    "                        ,twitter_access_token\n",
    "                        ,twitter_access_token_secret):\n",
    "    auth = tweepy.OAuthHandler(twitter_api_key, twitter_api_secret)\n",
    "    auth.set_access_token(twitter_access_token,twitter_access_token_secret)\n",
    "    # Create API object\n",
    "    try:\n",
    "        api = tweepy.API(auth)\n",
    "        print(\"API Twitter connected!\")\n",
    "    except:\n",
    "        print(\"Authentication failed. Perhaps wrong Keys and Tokens?\")\n",
    "    return api\n",
    "\n",
    "def twitter_update_status(api,status):\n",
    "    try:\n",
    "        api.update_status(status)\n",
    "    except:\n",
    "        print(\"Update status failed. Perhaps API connection failed?\")\n",
    "def print_line(line_count):\n",
    "    for x in range(line_count):\n",
    "          print(\"\\n\")\n",
    "\n",
    "def browser_show_tweet_by_id(id):\n",
    "    print(\"https://twitter.com/anyuser/status/{}\".format(id))\n",
    "\n",
    "def search_tweet_to_dataframe(api,query,is_search_all=False):\n",
    "    search_result = api.search(query)\n",
    "    json_data = [r._json for r in search_result]\n",
    "    df = pd.json_normalize(json_data)\n",
    "    print(\"{} tweets are found.\".format(df.shape[0]))\n",
    "    return df\n",
    "\n",
    "def like_tweet_in_df(df_search_result,commit_state=False,rand_sleep_seconds_min=1,rand_sleep_seconds_max=5):\n",
    "    tweet_to_like = pd.DataFrame()\n",
    "    try:\n",
    "        liked_tweet = pd.read_csv('liked_tweet.csv',header=None).rename(columns={0:'id'})\n",
    "        tweet_to_like = df_search_result[~df_search_result.id.isin(liked_tweet.id)][['id']]\n",
    "    except:\n",
    "        print(\"file_not_found. Search Result will be liked\")\n",
    "\n",
    "    if len(tweet_to_like)>0:\n",
    "        for items in tweet_to_like.id:\n",
    "            if commit_state:\n",
    "                    try:\n",
    "                        api.create_favorite(items)\n",
    "                    except:\n",
    "                        print(\"Failed favorite tweet id '{}'. Perhaps it's already favorited?\".format(items))\n",
    "            print(\"commit_state = {}. Liking tweet id {}\".format(commit_state,items))\n",
    "#             sleep(randint(rand_sleep_seconds_min,rand_sleep_seconds_max))\n",
    "    else:\n",
    "        for items in df_search_result.id:\n",
    "            if commit_state:\n",
    "                    try:\n",
    "                        api.create_favorite(items)\n",
    "                    except:\n",
    "                        print(\"Failed favorite tweet id '{}'. Perhaps it's already favorited?\".format(items))\n",
    "            print(\"commit_state = {}. Liking tweet id {}\".format(commit_state,items))\n",
    "#             sleep(randint(rand_sleep_seconds_min,rand_sleep_seconds_max))\n",
    "\n",
    "    print(\"Like done.\")\n",
    "    df_search_result[['id']].to_csv('liked_tweet.csv', mode='a', header=False,index=False)\n",
    "    print(\"File 'liked_tweet.csv' updated\")\n",
    "\n",
    "\n",
    "# In[3]:"
   ]
  },
  {
   "cell_type": "code",
   "execution_count": 2,
   "metadata": {
    "collapsed": false
   },
   "outputs": [
    {
     "name": "stdout",
     "output_type": "stream",
     "text": [
      "API Twitter connected!\n"
     ]
    }
   ],
   "source": [
    "translator = Translator()\n",
    "api = authenticate_twitter(\"Cr7DNert38Pxc9HTJ4JJ0bpLi\"\n",
    "                          ,\"1heDAW3KLiwvjtKt5xg7HuJQXTf0gW6OWDC0C5phwAnvJm9eMO\"\n",
    "                          ,\"954188384989200384-fjX83RegJmXVRZOc2nczBytMqyDmcXz\"\n",
    "                          ,\"ONvT8LJElE1FUw3vlShrX73kmQGQBf42DctFdmf8o2Rd1\")"
   ]
  },
  {
   "cell_type": "code",
   "execution_count": 3,
   "metadata": {
    "collapsed": true
   },
   "outputs": [],
   "source": [
    "list_tweet = pd.read_csv('Brainyquote search by money.csv',header=0)"
   ]
  },
  {
   "cell_type": "code",
   "execution_count": 10,
   "metadata": {
    "collapsed": false
   },
   "outputs": [],
   "source": [
    "words_to_tweet=list_tweet.sample()['output_list'].values[0]\n",
    "translation = translator.translate(words_to_tweet,src='en',dest='id')"
   ]
  },
  {
   "cell_type": "code",
   "execution_count": 23,
   "metadata": {
    "collapsed": false
   },
   "outputs": [
    {
     "name": "stdout",
     "output_type": "stream",
     "text": [
      "Hal-hal yang paling indah tidak terkait dengan #uang; mereka adalah kenangan dan momen. Jika Anda tidak merayakannya, mereka bisa melewati Anda. - Alek Wek\n"
     ]
    }
   ],
   "source": [
    "for items in list_tweet:\n",
    "    words_to_tweet=list_tweet.sample()['output_list'].values[0]\n",
    "    translation = translator.translate(words_to_tweet,src='en',dest='id')\n",
    "    print(translation.text.replace('uang','#uang'))"
   ]
  },
  {
   "cell_type": "code",
   "execution_count": null,
   "metadata": {
    "collapsed": true
   },
   "outputs": [],
   "source": []
  }
 ],
 "metadata": {
  "kernelspec": {
   "display_name": "Python 3.9",
   "language": "python",
   "name": "python3.9"
  },
  "language_info": {
   "codemirror_mode": {
    "name": "ipython",
    "version": 3
   },
   "file_extension": ".py",
   "mimetype": "text/x-python",
   "name": "python",
   "nbconvert_exporter": "python",
   "pygments_lexer": "ipython3",
   "version": "3.9.5"
  }
 },
 "nbformat": 4,
 "nbformat_minor": 0
}
