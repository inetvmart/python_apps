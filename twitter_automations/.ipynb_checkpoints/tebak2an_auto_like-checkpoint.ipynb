{
 "cells": [
  {
   "cell_type": "code",
   "execution_count": 5,
   "metadata": {
    "collapsed": true
   },
   "outputs": [],
   "source": [
    "import tweepy\n",
    "import pandas as pd\n",
    "import random\n",
    "from random import randint\n",
    "from time import sleep"
   ]
  },
  {
   "cell_type": "code",
   "execution_count": 6,
   "metadata": {
    "collapsed": true
   },
   "outputs": [],
   "source": [
    "def authenticate_twitter(twitter_api_key\n",
    "                        ,twitter_api_secret\n",
    "                        ,twitter_access_token\n",
    "                        ,twitter_access_token_secret):\n",
    "    auth = tweepy.OAuthHandler(twitter_api_key, twitter_api_secret)\n",
    "    auth.set_access_token(twitter_access_token,twitter_access_token_secret)\n",
    "    # Create API object\n",
    "    try:\n",
    "        api = tweepy.API(auth)\n",
    "        print(\"API Twitter connected!\")\n",
    "    except:\n",
    "        print(\"Authentication failed. Perhaps wrong Keys and Tokens?\")\n",
    "    return api\n",
    "\n",
    "def twitter_update_status(api,status):\n",
    "    try:\n",
    "        api.update_status(status)\n",
    "    except:\n",
    "        print(\"Update status failed. Perhaps API connection failed?\")\n",
    "def print_line(line_count):\n",
    "    for x in range(line_count):\n",
    "          print(\"\\n\")\n",
    "\n",
    "def browser_show_tweet_by_id(id):\n",
    "    print(\"https://twitter.com/anyuser/status/{}\".format(id))\n",
    "    \n",
    "def search_tweet_to_dataframe(api,query,is_search_all=False):\n",
    "    search_result = api.search(query)\n",
    "    json_data = [r._json for r in search_result]\n",
    "    df = pd.json_normalize(json_data)\n",
    "    print(\"{} tweets are found.\".format(df.shape[0]))\n",
    "    return df   \n",
    "\n",
    "def like_tweet_in_df(df_search_result,commit_state=False,rand_sleep_seconds_min=1,rand_sleep_seconds_max=5):\n",
    "    tweet_to_like = pd.DataFrame()\n",
    "    try:\n",
    "        liked_tweet = pd.read_csv('liked_tweet.csv',header=None).rename(columns={0:'id'})\n",
    "        tweet_to_like = df_search_result[~df_search_result.id.isin(liked_tweet.id)][['id']]            \n",
    "    except:\n",
    "        print(\"file_not_found. Search Result will be liked\")\n",
    "    \n",
    "    if len(tweet_to_like)>0:\n",
    "        for items in tweet_to_like.id:\n",
    "            if commit_state:\n",
    "                    try:\n",
    "                        api.create_favorite(items)    \n",
    "                    except:\n",
    "                        print(\"Failed favorite tweet id '{}'. Perhaps it's already favorited?\".format(items))\n",
    "            print(\"commit_state = {}. Liking tweet id {}\".format(commit_state,items))\n",
    "#             sleep(randint(rand_sleep_seconds_min,rand_sleep_seconds_max))\n",
    "    else:\n",
    "        for items in df_search_result.id:\n",
    "            if commit_state:\n",
    "                    try:\n",
    "                        api.create_favorite(items)    \n",
    "                    except:\n",
    "                        print(\"Failed favorite tweet id '{}'. Perhaps it's already favorited?\".format(items))\n",
    "            print(\"commit_state = {}. Liking tweet id {}\".format(commit_state,items))\n",
    "#             sleep(randint(rand_sleep_seconds_min,rand_sleep_seconds_max))\n",
    "        \n",
    "    print(\"Like done.\")\n",
    "    df_search_result[['id']].to_csv('liked_tweet.csv', mode='a', header=False,index=False)\n",
    "    print(\"File 'liked_tweet.csv' updated\")"
   ]
  },
  {
   "cell_type": "code",
   "execution_count": 7,
   "metadata": {
    "collapsed": false
   },
   "outputs": [
    {
     "name": "stdout",
     "output_type": "stream",
     "text": [
      "API Twitter connected!\n"
     ]
    }
   ],
   "source": [
    "api = authenticate_twitter(\"OgH43uPp4wZFjNmm2QgIMB9P9\"\n",
    "                          ,\"nfyeLiVBUN66WoD1dmqwBjExo6OepHdY2MzpUnHYCgec4q8oAO\"\n",
    "                          ,\"1501572162548744192-K6ruRdHw89pbzlSZ9qo1lwndBBxqLK\"\n",
    "                          ,\"e10TT2Vbtfpvqgyl15RWLdv0kgUiLN08LNZsSFBNlseDF\")"
   ]
  },
  {
   "cell_type": "code",
   "execution_count": 8,
   "metadata": {
    "collapsed": false
   },
   "outputs": [
    {
     "name": "stdout",
     "output_type": "stream",
     "text": [
      "15 tweets are found.\n",
      "commit_state = True. Liking tweet id 1506795365521309696\n",
      "commit_state = True. Liking tweet id 1506795109202898945\n",
      "Failed favorite tweet id '1506772049921859587'. Perhaps it's already favorited?\n",
      "commit_state = True. Liking tweet id 1506772049921859587\n",
      "Failed favorite tweet id '1506710652437422099'. Perhaps it's already favorited?\n",
      "commit_state = True. Liking tweet id 1506710652437422099\n",
      "Failed favorite tweet id '1506703400360378368'. Perhaps it's already favorited?\n",
      "commit_state = True. Liking tweet id 1506703400360378368\n",
      "Failed favorite tweet id '1506697569052741633'. Perhaps it's already favorited?\n",
      "commit_state = True. Liking tweet id 1506697569052741633\n",
      "Failed favorite tweet id '1506691845438337026'. Perhaps it's already favorited?\n",
      "commit_state = True. Liking tweet id 1506691845438337026\n",
      "Failed favorite tweet id '1506674015024254987'. Perhaps it's already favorited?\n",
      "commit_state = True. Liking tweet id 1506674015024254987\n",
      "Failed favorite tweet id '1506673892735479810'. Perhaps it's already favorited?\n",
      "commit_state = True. Liking tweet id 1506673892735479810\n",
      "Failed favorite tweet id '1506670918814560257'. Perhaps it's already favorited?\n",
      "commit_state = True. Liking tweet id 1506670918814560257\n",
      "Failed favorite tweet id '1506666808471814147'. Perhaps it's already favorited?\n",
      "commit_state = True. Liking tweet id 1506666808471814147\n",
      "Failed favorite tweet id '1506666356397072388'. Perhaps it's already favorited?\n",
      "commit_state = True. Liking tweet id 1506666356397072388\n",
      "Failed favorite tweet id '1506665537928978432'. Perhaps it's already favorited?\n",
      "commit_state = True. Liking tweet id 1506665537928978432\n",
      "Failed favorite tweet id '1506658390516256771'. Perhaps it's already favorited?\n",
      "commit_state = True. Liking tweet id 1506658390516256771\n",
      "Failed favorite tweet id '1506656826800041994'. Perhaps it's already favorited?\n",
      "commit_state = True. Liking tweet id 1506656826800041994\n",
      "Like done.\n",
      "File 'liked_tweet.csv' updated\n"
     ]
    }
   ],
   "source": [
    "df_search_result = search_tweet_to_dataframe(api,\"tebak tebakan -filter:mentions -filter:links\")\n",
    "like_tweet_in_df(df_search_result,commit_state=True)"
   ]
  },
  {
   "cell_type": "code",
   "execution_count": null,
   "metadata": {
    "collapsed": true
   },
   "outputs": [],
   "source": []
  }
 ],
 "metadata": {
  "kernelspec": {
   "display_name": "Python 3.9",
   "language": "python",
   "name": "python3.9"
  },
  "language_info": {
   "codemirror_mode": {
    "name": "ipython",
    "version": 3
   },
   "file_extension": ".py",
   "mimetype": "text/x-python",
   "name": "python",
   "nbconvert_exporter": "python",
   "pygments_lexer": "ipython3",
   "version": "3.9.5"
  }
 },
 "nbformat": 4,
 "nbformat_minor": 0
}
